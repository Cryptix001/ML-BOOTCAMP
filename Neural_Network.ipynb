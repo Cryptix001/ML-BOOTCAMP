{
  "nbformat": 4,
  "nbformat_minor": 0,
  "metadata": {
    "colab": {
      "provenance": [],
      "authorship_tag": "ABX9TyMHF9K7QhOBFcVQqjNEL5Th",
      "include_colab_link": true
    },
    "kernelspec": {
      "name": "python3",
      "display_name": "Python 3"
    },
    "language_info": {
      "name": "python"
    }
  },
  "cells": [
    {
      "cell_type": "markdown",
      "metadata": {
        "id": "view-in-github",
        "colab_type": "text"
      },
      "source": [
        "<a href=\"https://colab.research.google.com/github/Cryptix001/ML-BOOTCAMP/blob/main/Neural_Network.ipynb\" target=\"_parent\"><img src=\"https://colab.research.google.com/assets/colab-badge.svg\" alt=\"Open In Colab\"/></a>"
      ]
    },
    {
      "cell_type": "code",
      "execution_count": 1,
      "metadata": {
        "id": "Zs1mtNgVbpHB"
      },
      "outputs": [],
      "source": [
        "from torchvision import datasets\n",
        "from torchvision.transforms import ToTensor"
      ]
    },
    {
      "cell_type": "code",
      "source": [
        "train_data= datasets.MNIST(\n",
        "    root=\"data\",\n",
        "    train=True,\n",
        "    download=True,\n",
        "    transform=ToTensor()\n",
        ")\n",
        "test_data= datasets.MNIST(\n",
        "    root=\"data\",\n",
        "    train=False,\n",
        "    download=True,\n",
        "    transform=ToTensor()\n",
        ")"
      ],
      "metadata": {
        "colab": {
          "base_uri": "https://localhost:8080/"
        },
        "id": "5DDfALclcAJz",
        "outputId": "91da745c-8008-4714-a973-4a1a19ca0764"
      },
      "execution_count": 2,
      "outputs": [
        {
          "output_type": "stream",
          "name": "stdout",
          "text": [
            "Downloading http://yann.lecun.com/exdb/mnist/train-images-idx3-ubyte.gz\n",
            "Failed to download (trying next):\n",
            "HTTP Error 403: Forbidden\n",
            "\n",
            "Downloading https://ossci-datasets.s3.amazonaws.com/mnist/train-images-idx3-ubyte.gz\n",
            "Downloading https://ossci-datasets.s3.amazonaws.com/mnist/train-images-idx3-ubyte.gz to data/MNIST/raw/train-images-idx3-ubyte.gz\n"
          ]
        },
        {
          "output_type": "stream",
          "name": "stderr",
          "text": [
            "100%|██████████| 9.91M/9.91M [00:00<00:00, 139MB/s]"
          ]
        },
        {
          "output_type": "stream",
          "name": "stdout",
          "text": [
            "Extracting data/MNIST/raw/train-images-idx3-ubyte.gz to data/MNIST/raw\n"
          ]
        },
        {
          "output_type": "stream",
          "name": "stderr",
          "text": [
            "\n"
          ]
        },
        {
          "output_type": "stream",
          "name": "stdout",
          "text": [
            "\n",
            "Downloading http://yann.lecun.com/exdb/mnist/train-labels-idx1-ubyte.gz\n",
            "Failed to download (trying next):\n",
            "HTTP Error 403: Forbidden\n",
            "\n",
            "Downloading https://ossci-datasets.s3.amazonaws.com/mnist/train-labels-idx1-ubyte.gz\n",
            "Downloading https://ossci-datasets.s3.amazonaws.com/mnist/train-labels-idx1-ubyte.gz to data/MNIST/raw/train-labels-idx1-ubyte.gz\n"
          ]
        },
        {
          "output_type": "stream",
          "name": "stderr",
          "text": [
            "100%|██████████| 28.9k/28.9k [00:00<00:00, 22.2MB/s]"
          ]
        },
        {
          "output_type": "stream",
          "name": "stdout",
          "text": [
            "Extracting data/MNIST/raw/train-labels-idx1-ubyte.gz to data/MNIST/raw\n",
            "\n",
            "Downloading http://yann.lecun.com/exdb/mnist/t10k-images-idx3-ubyte.gz\n"
          ]
        },
        {
          "output_type": "stream",
          "name": "stderr",
          "text": [
            "\n"
          ]
        },
        {
          "output_type": "stream",
          "name": "stdout",
          "text": [
            "Failed to download (trying next):\n",
            "HTTP Error 403: Forbidden\n",
            "\n",
            "Downloading https://ossci-datasets.s3.amazonaws.com/mnist/t10k-images-idx3-ubyte.gz\n",
            "Downloading https://ossci-datasets.s3.amazonaws.com/mnist/t10k-images-idx3-ubyte.gz to data/MNIST/raw/t10k-images-idx3-ubyte.gz\n"
          ]
        },
        {
          "output_type": "stream",
          "name": "stderr",
          "text": [
            "100%|██████████| 1.65M/1.65M [00:00<00:00, 54.5MB/s]"
          ]
        },
        {
          "output_type": "stream",
          "name": "stdout",
          "text": [
            "Extracting data/MNIST/raw/t10k-images-idx3-ubyte.gz to data/MNIST/raw\n"
          ]
        },
        {
          "output_type": "stream",
          "name": "stderr",
          "text": [
            "\n"
          ]
        },
        {
          "output_type": "stream",
          "name": "stdout",
          "text": [
            "\n",
            "Downloading http://yann.lecun.com/exdb/mnist/t10k-labels-idx1-ubyte.gz\n",
            "Failed to download (trying next):\n",
            "HTTP Error 403: Forbidden\n",
            "\n",
            "Downloading https://ossci-datasets.s3.amazonaws.com/mnist/t10k-labels-idx1-ubyte.gz\n",
            "Downloading https://ossci-datasets.s3.amazonaws.com/mnist/t10k-labels-idx1-ubyte.gz to data/MNIST/raw/t10k-labels-idx1-ubyte.gz\n"
          ]
        },
        {
          "output_type": "stream",
          "name": "stderr",
          "text": [
            "100%|██████████| 4.54k/4.54k [00:00<00:00, 3.38MB/s]"
          ]
        },
        {
          "output_type": "stream",
          "name": "stdout",
          "text": [
            "Extracting data/MNIST/raw/t10k-labels-idx1-ubyte.gz to data/MNIST/raw\n",
            "\n"
          ]
        },
        {
          "output_type": "stream",
          "name": "stderr",
          "text": [
            "\n"
          ]
        }
      ]
    },
    {
      "cell_type": "code",
      "source": [
        "train_data"
      ],
      "metadata": {
        "colab": {
          "base_uri": "https://localhost:8080/"
        },
        "id": "GgOCOJZwcOBQ",
        "outputId": "ada3488b-7352-4151-e778-dd27d80bcaea"
      },
      "execution_count": 3,
      "outputs": [
        {
          "output_type": "execute_result",
          "data": {
            "text/plain": [
              "Dataset MNIST\n",
              "    Number of datapoints: 60000\n",
              "    Root location: data\n",
              "    Split: Train\n",
              "    StandardTransform\n",
              "Transform: ToTensor()"
            ]
          },
          "metadata": {},
          "execution_count": 3
        }
      ]
    },
    {
      "cell_type": "code",
      "source": [
        "test_data"
      ],
      "metadata": {
        "colab": {
          "base_uri": "https://localhost:8080/"
        },
        "id": "5jtvebq4cSf_",
        "outputId": "f9470efe-f8ba-4adf-c300-f20889232933"
      },
      "execution_count": 4,
      "outputs": [
        {
          "output_type": "execute_result",
          "data": {
            "text/plain": [
              "Dataset MNIST\n",
              "    Number of datapoints: 10000\n",
              "    Root location: data\n",
              "    Split: Test\n",
              "    StandardTransform\n",
              "Transform: ToTensor()"
            ]
          },
          "metadata": {},
          "execution_count": 4
        }
      ]
    },
    {
      "cell_type": "code",
      "source": [
        "train_data.targets.size()"
      ],
      "metadata": {
        "colab": {
          "base_uri": "https://localhost:8080/"
        },
        "id": "4WC4brAQcTdn",
        "outputId": "87e90b1b-a62c-4ae5-a450-f8a70979ce27"
      },
      "execution_count": 5,
      "outputs": [
        {
          "output_type": "execute_result",
          "data": {
            "text/plain": [
              "torch.Size([60000])"
            ]
          },
          "metadata": {},
          "execution_count": 5
        }
      ]
    },
    {
      "cell_type": "code",
      "source": [
        "from torch.utils.data import DataLoader\n",
        "loaders={\n",
        "    'train':DataLoader(train_data,\n",
        "                       batch_size=100,\n",
        "                       shuffle=True,\n",
        "                       num_workers=1),\n",
        "    'test':DataLoader(test_data,\n",
        "                      batch_size=100,\n",
        "                      shuffle=True,\n",
        "                      num_workers=1),\n",
        "}"
      ],
      "metadata": {
        "id": "QSu6cI0VdcmQ"
      },
      "execution_count": 7,
      "outputs": []
    },
    {
      "cell_type": "code",
      "source": [
        "loaders"
      ],
      "metadata": {
        "colab": {
          "base_uri": "https://localhost:8080/"
        },
        "id": "2MGTmmjudg--",
        "outputId": "44ff2232-af84-4a69-d955-faaa704ec473"
      },
      "execution_count": 8,
      "outputs": [
        {
          "output_type": "execute_result",
          "data": {
            "text/plain": [
              "{'train': <torch.utils.data.dataloader.DataLoader at 0x79738d2806a0>,\n",
              " 'test': <torch.utils.data.dataloader.DataLoader at 0x79738d280190>}"
            ]
          },
          "metadata": {},
          "execution_count": 8
        }
      ]
    },
    {
      "cell_type": "code",
      "source": [
        "import torch.nn as nn\n",
        "import torch.nn.functional as F\n",
        "import torch.optim as optim\n",
        "\n",
        "class CNN(nn.Module):\n",
        "    def __init__(self):\n",
        "        super(CNN,self).__init__()\n",
        "\n",
        "        self.conv1=nn.Conv2d(in_channels=1,\n",
        "                             out_channels=16,\n",
        "                             kernel_size=5,)\n",
        "        self.conv2=nn.Conv2d(in_channels=10,\n",
        "                             out_channels=20,\n",
        "                             kernel_size=5,\n",
        "                             )\n",
        "        self.conv2_drop=nn.Dropout2d()\n",
        "        self.fc1=nn.Linear(320,50)\n",
        "        self.fc2=nn.Linear(50,10)\n",
        "    def forward(self,x):\n",
        "        x=F.relu(F.max_pool2d(self.conv1(x),2))\n",
        "        x=F.relu(F.max_pool2d(self.conv2_drop(self.conv2(x)),2))\n",
        "        x=x.view(-1,320)\n",
        "        x=F.relu(self.fc1(x))\n",
        "        x=F.dropout(x,training=self.training)\n",
        "        x=self.fc2(x)\n",
        "\n",
        "        return F.log_softmax(x)"
      ],
      "metadata": {
        "id": "PdEk-CTidoex"
      },
      "execution_count": 9,
      "outputs": []
    },
    {
      "cell_type": "code",
      "source": [
        "import torch.nn as nn\n",
        "import torch.nn.functional as F\n",
        "import torch.optim as optim\n",
        "\n",
        "class CNN(nn.Module):\n",
        "    def __init__(self):\n",
        "        super(CNN,self).__init__()\n",
        "\n",
        "        self.conv1=nn.Conv2d(in_channels=1,\n",
        "                             out_channels=16,\n",
        "                             kernel_size=5,)\n",
        "        # Change in_channels to 16 to match conv1 output\n",
        "        self.conv2=nn.Conv2d(in_channels=16,\n",
        "                             out_channels=20,\n",
        "                             kernel_size=5,\n",
        "                             )\n",
        "        self.conv2_drop=nn.Dropout2d()\n",
        "        self.fc1=nn.Linear(320,50)\n",
        "        self.fc2=nn.Linear(50,10)\n",
        "    def forward(self,x):\n",
        "        x=F.relu(F.max_pool2d(self.conv1(x),2))\n",
        "        x=F.relu(F.max_pool2d(self.conv2_drop(self.conv2(x)),2))\n",
        "        x=x.view(-1,320)\n",
        "        x=F.relu(self.fc1(x))\n",
        "        x=F.dropout(x,training=self.training)\n",
        "        x=self.fc2(x)\n",
        "\n",
        "        return F.log_softmax(x)"
      ],
      "metadata": {
        "id": "xjUjA8PNdqKr"
      },
      "execution_count": 10,
      "outputs": []
    },
    {
      "cell_type": "code",
      "source": [
        "import torch\n",
        "device=torch.device(\"cuda\" if torch.cuda.is_available() else \"cpu\")\n",
        "\n",
        "model=CNN().to(device)\n",
        "optimizer=optim.Adam(model.parameters(),lr=0.001)\n",
        "loss_fn=nn.CrossEntropyLoss()\n",
        "\n",
        "def train(epoch):\n",
        "    model.train()\n",
        "    for batch_idx,(data,target) in enumerate(loaders['train']):\n",
        "        data,target=data.to(device),target.to(device)\n",
        "        optimizer.zero_grad()\n",
        "        output=model(data)\n",
        "        loss=loss_fn(output,target)\n",
        "        loss.backward()\n",
        "import torch\n",
        "device=torch.device(\"cuda\" if torch.cuda.is_available() else \"cpu\")\n",
        "\n",
        "model=CNN().to(device)\n",
        "optimizer=optim.Adam(model.parameters(),lr=0.001)\n",
        "loss_fn=nn.CrossEntropyLoss()\n",
        "\n",
        "def train(epoch):\n",
        "    model.train()\n",
        "    for batch_idx,(data,target) in enumerate(loaders['train']):\n",
        "        data,target=data.to(device),target.to(device)\n",
        "        optimizer.zero_grad()\n",
        "        output=model(data)\n",
        "        loss=loss_fn(output,target)\n",
        "        loss.backward()\n",
        "        optimizer.step()\n",
        "        if(batch_idx+1)%20==0:\n",
        "            print(f'Train Epoch: {epoch} [{batch_idx * len(data)}/{len(loaders[\"train\"].dataset)} ({100. *batch_idx / len(loaders[\"train\"]):.0f}%)]\\t{loss.item():.6f}')\n"
      ],
      "metadata": {
        "id": "07hs7Px9d7OT"
      },
      "execution_count": 11,
      "outputs": []
    },
    {
      "cell_type": "code",
      "source": [
        "def test():\n",
        "    model.eval()\n",
        "\n",
        "    test_loss=0\n",
        "    correct=0\n",
        "\n",
        "    with torch.no_grad():\n",
        "        for data,target in loaders['test']:\n",
        "            data,target=data.to(device),target.to(device)\n",
        "            output=model(data)\n",
        "            test_loss+=loss_fn(output,target).item()\n",
        "            pred=output.argmax(dim=1,keepdim=True)\n",
        "            correct+=pred.eq(target.view_as(pred)).sum().item()\n",
        "    test_loss/=len(loaders['test'].dataset)\n",
        "    print(f'\\nTest set: Average loss: {test_loss:.4f}, Accuracy: {correct}/{len(loaders[\"test\"].dataset)} ({100. * correct / len(loaders[\"test\"].dataset):.0f}%)\\n')\n"
      ],
      "metadata": {
        "id": "_qhnX5pAd93M"
      },
      "execution_count": 12,
      "outputs": []
    },
    {
      "cell_type": "code",
      "source": [
        "for epoch in range(1,10):\n",
        "    train(epoch)\n",
        "    test()"
      ],
      "metadata": {
        "colab": {
          "base_uri": "https://localhost:8080/"
        },
        "id": "EXkpGvoHeJgx",
        "outputId": "44abe5a9-f84b-4c5b-9ad3-3ec3d961bb6b"
      },
      "execution_count": 13,
      "outputs": [
        {
          "metadata": {
            "tags": null
          },
          "name": "stderr",
          "output_type": "stream",
          "text": [
            "<ipython-input-10-5d4445b64b29>:28: UserWarning: Implicit dimension choice for log_softmax has been deprecated. Change the call to include dim=X as an argument.\n",
            "  return F.log_softmax(x)\n"
          ]
        },
        {
          "output_type": "stream",
          "name": "stdout",
          "text": [
            "Train Epoch: 1 [1900/60000 (3%)]\t2.234997\n",
            "Train Epoch: 1 [3900/60000 (6%)]\t1.704337\n",
            "Train Epoch: 1 [5900/60000 (10%)]\t1.172730\n",
            "Train Epoch: 1 [7900/60000 (13%)]\t1.049506\n",
            "Train Epoch: 1 [9900/60000 (16%)]\t1.009434\n",
            "Train Epoch: 1 [11900/60000 (20%)]\t0.656508\n",
            "Train Epoch: 1 [13900/60000 (23%)]\t0.594231\n",
            "Train Epoch: 1 [15900/60000 (26%)]\t0.861420\n",
            "Train Epoch: 1 [17900/60000 (30%)]\t0.568106\n",
            "Train Epoch: 1 [19900/60000 (33%)]\t0.437134\n",
            "Train Epoch: 1 [21900/60000 (36%)]\t0.413185\n",
            "Train Epoch: 1 [23900/60000 (40%)]\t0.479225\n",
            "Train Epoch: 1 [25900/60000 (43%)]\t0.596077\n",
            "Train Epoch: 1 [27900/60000 (46%)]\t0.493405\n",
            "Train Epoch: 1 [29900/60000 (50%)]\t0.416414\n",
            "Train Epoch: 1 [31900/60000 (53%)]\t0.359271\n",
            "Train Epoch: 1 [33900/60000 (56%)]\t0.300238\n",
            "Train Epoch: 1 [35900/60000 (60%)]\t0.608055\n",
            "Train Epoch: 1 [37900/60000 (63%)]\t0.541734\n",
            "Train Epoch: 1 [39900/60000 (66%)]\t0.245199\n",
            "Train Epoch: 1 [41900/60000 (70%)]\t0.236697\n",
            "Train Epoch: 1 [43900/60000 (73%)]\t0.511555\n",
            "Train Epoch: 1 [45900/60000 (76%)]\t0.426431\n",
            "Train Epoch: 1 [47900/60000 (80%)]\t0.233312\n",
            "Train Epoch: 1 [49900/60000 (83%)]\t0.388778\n",
            "Train Epoch: 1 [51900/60000 (86%)]\t0.505306\n",
            "Train Epoch: 1 [53900/60000 (90%)]\t0.323197\n",
            "Train Epoch: 1 [55900/60000 (93%)]\t0.300922\n",
            "Train Epoch: 1 [57900/60000 (96%)]\t0.266175\n",
            "Train Epoch: 1 [59900/60000 (100%)]\t0.334495\n",
            "\n",
            "Test set: Average loss: 0.0012, Accuracy: 9619/10000 (96%)\n",
            "\n",
            "Train Epoch: 2 [1900/60000 (3%)]\t0.400850\n",
            "Train Epoch: 2 [3900/60000 (6%)]\t0.284467\n",
            "Train Epoch: 2 [5900/60000 (10%)]\t0.367062\n",
            "Train Epoch: 2 [7900/60000 (13%)]\t0.454480\n",
            "Train Epoch: 2 [9900/60000 (16%)]\t0.219725\n",
            "Train Epoch: 2 [11900/60000 (20%)]\t0.214007\n",
            "Train Epoch: 2 [13900/60000 (23%)]\t0.335896\n",
            "Train Epoch: 2 [15900/60000 (26%)]\t0.224309\n",
            "Train Epoch: 2 [17900/60000 (30%)]\t0.337329\n",
            "Train Epoch: 2 [19900/60000 (33%)]\t0.194929\n",
            "Train Epoch: 2 [21900/60000 (36%)]\t0.197256\n",
            "Train Epoch: 2 [23900/60000 (40%)]\t0.373721\n",
            "Train Epoch: 2 [25900/60000 (43%)]\t0.163299\n",
            "Train Epoch: 2 [27900/60000 (46%)]\t0.271788\n",
            "Train Epoch: 2 [29900/60000 (50%)]\t0.288721\n",
            "Train Epoch: 2 [31900/60000 (53%)]\t0.225562\n",
            "Train Epoch: 2 [33900/60000 (56%)]\t0.266360\n",
            "Train Epoch: 2 [35900/60000 (60%)]\t0.417039\n",
            "Train Epoch: 2 [37900/60000 (63%)]\t0.507557\n",
            "Train Epoch: 2 [39900/60000 (66%)]\t0.384678\n",
            "Train Epoch: 2 [41900/60000 (70%)]\t0.420399\n",
            "Train Epoch: 2 [43900/60000 (73%)]\t0.181381\n",
            "Train Epoch: 2 [45900/60000 (76%)]\t0.222445\n",
            "Train Epoch: 2 [47900/60000 (80%)]\t0.282888\n",
            "Train Epoch: 2 [49900/60000 (83%)]\t0.452289\n",
            "Train Epoch: 2 [51900/60000 (86%)]\t0.152029\n",
            "Train Epoch: 2 [53900/60000 (90%)]\t0.245820\n",
            "Train Epoch: 2 [55900/60000 (93%)]\t0.250844\n",
            "Train Epoch: 2 [57900/60000 (96%)]\t0.191191\n",
            "Train Epoch: 2 [59900/60000 (100%)]\t0.234168\n",
            "\n",
            "Test set: Average loss: 0.0008, Accuracy: 9745/10000 (97%)\n",
            "\n",
            "Train Epoch: 3 [1900/60000 (3%)]\t0.255685\n",
            "Train Epoch: 3 [3900/60000 (6%)]\t0.195698\n",
            "Train Epoch: 3 [5900/60000 (10%)]\t0.151801\n",
            "Train Epoch: 3 [7900/60000 (13%)]\t0.252816\n",
            "Train Epoch: 3 [9900/60000 (16%)]\t0.223504\n",
            "Train Epoch: 3 [11900/60000 (20%)]\t0.235348\n",
            "Train Epoch: 3 [13900/60000 (23%)]\t0.138768\n",
            "Train Epoch: 3 [15900/60000 (26%)]\t0.103095\n",
            "Train Epoch: 3 [17900/60000 (30%)]\t0.354123\n",
            "Train Epoch: 3 [19900/60000 (33%)]\t0.245539\n",
            "Train Epoch: 3 [21900/60000 (36%)]\t0.201720\n",
            "Train Epoch: 3 [23900/60000 (40%)]\t0.233154\n",
            "Train Epoch: 3 [25900/60000 (43%)]\t0.138549\n",
            "Train Epoch: 3 [27900/60000 (46%)]\t0.174113\n",
            "Train Epoch: 3 [29900/60000 (50%)]\t0.368102\n",
            "Train Epoch: 3 [31900/60000 (53%)]\t0.116464\n",
            "Train Epoch: 3 [33900/60000 (56%)]\t0.142562\n",
            "Train Epoch: 3 [35900/60000 (60%)]\t0.191636\n",
            "Train Epoch: 3 [37900/60000 (63%)]\t0.315181\n",
            "Train Epoch: 3 [39900/60000 (66%)]\t0.238422\n",
            "Train Epoch: 3 [41900/60000 (70%)]\t0.370717\n",
            "Train Epoch: 3 [43900/60000 (73%)]\t0.236744\n",
            "Train Epoch: 3 [45900/60000 (76%)]\t0.284756\n",
            "Train Epoch: 3 [47900/60000 (80%)]\t0.194011\n",
            "Train Epoch: 3 [49900/60000 (83%)]\t0.253252\n",
            "Train Epoch: 3 [51900/60000 (86%)]\t0.185104\n",
            "Train Epoch: 3 [53900/60000 (90%)]\t0.166719\n",
            "Train Epoch: 3 [55900/60000 (93%)]\t0.192836\n",
            "Train Epoch: 3 [57900/60000 (96%)]\t0.169407\n",
            "Train Epoch: 3 [59900/60000 (100%)]\t0.131708\n",
            "\n",
            "Test set: Average loss: 0.0007, Accuracy: 9783/10000 (98%)\n",
            "\n",
            "Train Epoch: 4 [1900/60000 (3%)]\t0.246339\n",
            "Train Epoch: 4 [3900/60000 (6%)]\t0.209740\n",
            "Train Epoch: 4 [5900/60000 (10%)]\t0.214616\n",
            "Train Epoch: 4 [7900/60000 (13%)]\t0.267519\n",
            "Train Epoch: 4 [9900/60000 (16%)]\t0.085931\n",
            "Train Epoch: 4 [11900/60000 (20%)]\t0.360071\n",
            "Train Epoch: 4 [13900/60000 (23%)]\t0.220324\n",
            "Train Epoch: 4 [15900/60000 (26%)]\t0.240425\n",
            "Train Epoch: 4 [17900/60000 (30%)]\t0.207374\n",
            "Train Epoch: 4 [19900/60000 (33%)]\t0.182813\n",
            "Train Epoch: 4 [21900/60000 (36%)]\t0.154417\n",
            "Train Epoch: 4 [23900/60000 (40%)]\t0.162420\n",
            "Train Epoch: 4 [25900/60000 (43%)]\t0.154574\n",
            "Train Epoch: 4 [27900/60000 (46%)]\t0.339279\n",
            "Train Epoch: 4 [29900/60000 (50%)]\t0.355112\n",
            "Train Epoch: 4 [31900/60000 (53%)]\t0.351212\n",
            "Train Epoch: 4 [33900/60000 (56%)]\t0.363856\n",
            "Train Epoch: 4 [35900/60000 (60%)]\t0.159178\n",
            "Train Epoch: 4 [37900/60000 (63%)]\t0.173755\n",
            "Train Epoch: 4 [39900/60000 (66%)]\t0.235523\n",
            "Train Epoch: 4 [41900/60000 (70%)]\t0.141469\n",
            "Train Epoch: 4 [43900/60000 (73%)]\t0.228978\n",
            "Train Epoch: 4 [45900/60000 (76%)]\t0.244783\n",
            "Train Epoch: 4 [47900/60000 (80%)]\t0.082211\n",
            "Train Epoch: 4 [49900/60000 (83%)]\t0.191246\n",
            "Train Epoch: 4 [51900/60000 (86%)]\t0.188085\n",
            "Train Epoch: 4 [53900/60000 (90%)]\t0.117815\n",
            "Train Epoch: 4 [55900/60000 (93%)]\t0.170984\n",
            "Train Epoch: 4 [57900/60000 (96%)]\t0.154652\n",
            "Train Epoch: 4 [59900/60000 (100%)]\t0.252707\n",
            "\n",
            "Test set: Average loss: 0.0006, Accuracy: 9820/10000 (98%)\n",
            "\n",
            "Train Epoch: 5 [1900/60000 (3%)]\t0.222110\n",
            "Train Epoch: 5 [3900/60000 (6%)]\t0.262989\n",
            "Train Epoch: 5 [5900/60000 (10%)]\t0.163198\n",
            "Train Epoch: 5 [7900/60000 (13%)]\t0.163787\n",
            "Train Epoch: 5 [9900/60000 (16%)]\t0.245968\n",
            "Train Epoch: 5 [11900/60000 (20%)]\t0.091065\n",
            "Train Epoch: 5 [13900/60000 (23%)]\t0.174899\n",
            "Train Epoch: 5 [15900/60000 (26%)]\t0.142499\n",
            "Train Epoch: 5 [17900/60000 (30%)]\t0.220426\n",
            "Train Epoch: 5 [19900/60000 (33%)]\t0.179444\n",
            "Train Epoch: 5 [21900/60000 (36%)]\t0.149131\n",
            "Train Epoch: 5 [23900/60000 (40%)]\t0.149346\n",
            "Train Epoch: 5 [25900/60000 (43%)]\t0.373776\n",
            "Train Epoch: 5 [27900/60000 (46%)]\t0.164639\n",
            "Train Epoch: 5 [29900/60000 (50%)]\t0.149829\n",
            "Train Epoch: 5 [31900/60000 (53%)]\t0.132748\n",
            "Train Epoch: 5 [33900/60000 (56%)]\t0.141744\n",
            "Train Epoch: 5 [35900/60000 (60%)]\t0.193129\n",
            "Train Epoch: 5 [37900/60000 (63%)]\t0.195973\n",
            "Train Epoch: 5 [39900/60000 (66%)]\t0.178004\n",
            "Train Epoch: 5 [41900/60000 (70%)]\t0.176486\n",
            "Train Epoch: 5 [43900/60000 (73%)]\t0.273777\n",
            "Train Epoch: 5 [45900/60000 (76%)]\t0.173234\n",
            "Train Epoch: 5 [47900/60000 (80%)]\t0.330468\n",
            "Train Epoch: 5 [49900/60000 (83%)]\t0.210107\n",
            "Train Epoch: 5 [51900/60000 (86%)]\t0.249381\n",
            "Train Epoch: 5 [53900/60000 (90%)]\t0.346825\n",
            "Train Epoch: 5 [55900/60000 (93%)]\t0.323281\n",
            "Train Epoch: 5 [57900/60000 (96%)]\t0.172308\n",
            "Train Epoch: 5 [59900/60000 (100%)]\t0.195104\n",
            "\n",
            "Test set: Average loss: 0.0005, Accuracy: 9835/10000 (98%)\n",
            "\n",
            "Train Epoch: 6 [1900/60000 (3%)]\t0.202290\n",
            "Train Epoch: 6 [3900/60000 (6%)]\t0.153175\n",
            "Train Epoch: 6 [5900/60000 (10%)]\t0.249343\n",
            "Train Epoch: 6 [7900/60000 (13%)]\t0.307146\n",
            "Train Epoch: 6 [9900/60000 (16%)]\t0.325327\n",
            "Train Epoch: 6 [11900/60000 (20%)]\t0.122703\n",
            "Train Epoch: 6 [13900/60000 (23%)]\t0.128839\n",
            "Train Epoch: 6 [15900/60000 (26%)]\t0.113395\n",
            "Train Epoch: 6 [17900/60000 (30%)]\t0.188353\n",
            "Train Epoch: 6 [19900/60000 (33%)]\t0.403717\n",
            "Train Epoch: 6 [21900/60000 (36%)]\t0.199808\n",
            "Train Epoch: 6 [23900/60000 (40%)]\t0.151099\n",
            "Train Epoch: 6 [25900/60000 (43%)]\t0.116968\n",
            "Train Epoch: 6 [27900/60000 (46%)]\t0.229262\n",
            "Train Epoch: 6 [29900/60000 (50%)]\t0.061778\n",
            "Train Epoch: 6 [31900/60000 (53%)]\t0.120612\n",
            "Train Epoch: 6 [33900/60000 (56%)]\t0.166227\n",
            "Train Epoch: 6 [35900/60000 (60%)]\t0.161120\n",
            "Train Epoch: 6 [37900/60000 (63%)]\t0.068936\n",
            "Train Epoch: 6 [39900/60000 (66%)]\t0.207615\n",
            "Train Epoch: 6 [41900/60000 (70%)]\t0.068006\n",
            "Train Epoch: 6 [43900/60000 (73%)]\t0.095680\n",
            "Train Epoch: 6 [45900/60000 (76%)]\t0.101656\n",
            "Train Epoch: 6 [47900/60000 (80%)]\t0.083253\n",
            "Train Epoch: 6 [49900/60000 (83%)]\t0.178790\n",
            "Train Epoch: 6 [51900/60000 (86%)]\t0.149224\n",
            "Train Epoch: 6 [53900/60000 (90%)]\t0.178392\n",
            "Train Epoch: 6 [55900/60000 (93%)]\t0.092148\n",
            "Train Epoch: 6 [57900/60000 (96%)]\t0.339533\n",
            "Train Epoch: 6 [59900/60000 (100%)]\t0.110166\n",
            "\n",
            "Test set: Average loss: 0.0005, Accuracy: 9848/10000 (98%)\n",
            "\n",
            "Train Epoch: 7 [1900/60000 (3%)]\t0.555396\n",
            "Train Epoch: 7 [3900/60000 (6%)]\t0.106439\n",
            "Train Epoch: 7 [5900/60000 (10%)]\t0.145215\n",
            "Train Epoch: 7 [7900/60000 (13%)]\t0.101452\n",
            "Train Epoch: 7 [9900/60000 (16%)]\t0.136883\n",
            "Train Epoch: 7 [11900/60000 (20%)]\t0.181608\n",
            "Train Epoch: 7 [13900/60000 (23%)]\t0.176370\n",
            "Train Epoch: 7 [15900/60000 (26%)]\t0.056137\n",
            "Train Epoch: 7 [17900/60000 (30%)]\t0.130530\n",
            "Train Epoch: 7 [19900/60000 (33%)]\t0.191635\n",
            "Train Epoch: 7 [21900/60000 (36%)]\t0.088536\n",
            "Train Epoch: 7 [23900/60000 (40%)]\t0.247160\n",
            "Train Epoch: 7 [25900/60000 (43%)]\t0.047986\n",
            "Train Epoch: 7 [27900/60000 (46%)]\t0.148839\n",
            "Train Epoch: 7 [29900/60000 (50%)]\t0.240056\n",
            "Train Epoch: 7 [31900/60000 (53%)]\t0.133676\n",
            "Train Epoch: 7 [33900/60000 (56%)]\t0.145063\n",
            "Train Epoch: 7 [35900/60000 (60%)]\t0.144202\n",
            "Train Epoch: 7 [37900/60000 (63%)]\t0.101231\n",
            "Train Epoch: 7 [39900/60000 (66%)]\t0.177790\n",
            "Train Epoch: 7 [41900/60000 (70%)]\t0.091546\n",
            "Train Epoch: 7 [43900/60000 (73%)]\t0.127985\n",
            "Train Epoch: 7 [45900/60000 (76%)]\t0.141345\n",
            "Train Epoch: 7 [47900/60000 (80%)]\t0.242755\n",
            "Train Epoch: 7 [49900/60000 (83%)]\t0.112370\n",
            "Train Epoch: 7 [51900/60000 (86%)]\t0.358904\n",
            "Train Epoch: 7 [53900/60000 (90%)]\t0.054344\n",
            "Train Epoch: 7 [55900/60000 (93%)]\t0.209846\n",
            "Train Epoch: 7 [57900/60000 (96%)]\t0.166032\n",
            "Train Epoch: 7 [59900/60000 (100%)]\t0.105690\n",
            "\n",
            "Test set: Average loss: 0.0005, Accuracy: 9860/10000 (99%)\n",
            "\n",
            "Train Epoch: 8 [1900/60000 (3%)]\t0.158123\n",
            "Train Epoch: 8 [3900/60000 (6%)]\t0.116556\n",
            "Train Epoch: 8 [5900/60000 (10%)]\t0.139368\n",
            "Train Epoch: 8 [7900/60000 (13%)]\t0.180702\n",
            "Train Epoch: 8 [9900/60000 (16%)]\t0.110423\n",
            "Train Epoch: 8 [11900/60000 (20%)]\t0.160079\n",
            "Train Epoch: 8 [13900/60000 (23%)]\t0.164672\n",
            "Train Epoch: 8 [15900/60000 (26%)]\t0.088296\n",
            "Train Epoch: 8 [17900/60000 (30%)]\t0.195236\n",
            "Train Epoch: 8 [19900/60000 (33%)]\t0.130653\n",
            "Train Epoch: 8 [21900/60000 (36%)]\t0.226796\n",
            "Train Epoch: 8 [23900/60000 (40%)]\t0.083962\n",
            "Train Epoch: 8 [25900/60000 (43%)]\t0.113504\n",
            "Train Epoch: 8 [27900/60000 (46%)]\t0.131466\n",
            "Train Epoch: 8 [29900/60000 (50%)]\t0.099186\n",
            "Train Epoch: 8 [31900/60000 (53%)]\t0.123987\n",
            "Train Epoch: 8 [33900/60000 (56%)]\t0.192452\n",
            "Train Epoch: 8 [35900/60000 (60%)]\t0.146089\n",
            "Train Epoch: 8 [37900/60000 (63%)]\t0.212734\n",
            "Train Epoch: 8 [39900/60000 (66%)]\t0.204911\n",
            "Train Epoch: 8 [41900/60000 (70%)]\t0.107685\n",
            "Train Epoch: 8 [43900/60000 (73%)]\t0.111092\n",
            "Train Epoch: 8 [45900/60000 (76%)]\t0.136855\n",
            "Train Epoch: 8 [47900/60000 (80%)]\t0.197389\n",
            "Train Epoch: 8 [49900/60000 (83%)]\t0.203876\n",
            "Train Epoch: 8 [51900/60000 (86%)]\t0.084254\n",
            "Train Epoch: 8 [53900/60000 (90%)]\t0.161959\n",
            "Train Epoch: 8 [55900/60000 (93%)]\t0.206622\n",
            "Train Epoch: 8 [57900/60000 (96%)]\t0.112053\n",
            "Train Epoch: 8 [59900/60000 (100%)]\t0.180842\n",
            "\n",
            "Test set: Average loss: 0.0004, Accuracy: 9871/10000 (99%)\n",
            "\n",
            "Train Epoch: 9 [1900/60000 (3%)]\t0.088885\n",
            "Train Epoch: 9 [3900/60000 (6%)]\t0.123029\n",
            "Train Epoch: 9 [5900/60000 (10%)]\t0.099920\n",
            "Train Epoch: 9 [7900/60000 (13%)]\t0.111008\n",
            "Train Epoch: 9 [9900/60000 (16%)]\t0.222174\n",
            "Train Epoch: 9 [11900/60000 (20%)]\t0.093830\n",
            "Train Epoch: 9 [13900/60000 (23%)]\t0.066392\n",
            "Train Epoch: 9 [15900/60000 (26%)]\t0.100247\n",
            "Train Epoch: 9 [17900/60000 (30%)]\t0.107893\n",
            "Train Epoch: 9 [19900/60000 (33%)]\t0.071889\n",
            "Train Epoch: 9 [21900/60000 (36%)]\t0.121168\n",
            "Train Epoch: 9 [23900/60000 (40%)]\t0.177287\n",
            "Train Epoch: 9 [25900/60000 (43%)]\t0.065312\n",
            "Train Epoch: 9 [27900/60000 (46%)]\t0.045098\n",
            "Train Epoch: 9 [29900/60000 (50%)]\t0.070376\n",
            "Train Epoch: 9 [31900/60000 (53%)]\t0.201655\n",
            "Train Epoch: 9 [33900/60000 (56%)]\t0.177863\n",
            "Train Epoch: 9 [35900/60000 (60%)]\t0.162562\n",
            "Train Epoch: 9 [37900/60000 (63%)]\t0.098840\n",
            "Train Epoch: 9 [39900/60000 (66%)]\t0.126277\n",
            "Train Epoch: 9 [41900/60000 (70%)]\t0.226853\n",
            "Train Epoch: 9 [43900/60000 (73%)]\t0.232779\n",
            "Train Epoch: 9 [45900/60000 (76%)]\t0.180274\n",
            "Train Epoch: 9 [47900/60000 (80%)]\t0.151301\n",
            "Train Epoch: 9 [49900/60000 (83%)]\t0.162557\n",
            "Train Epoch: 9 [51900/60000 (86%)]\t0.068283\n",
            "Train Epoch: 9 [53900/60000 (90%)]\t0.171375\n",
            "Train Epoch: 9 [55900/60000 (93%)]\t0.208108\n",
            "Train Epoch: 9 [57900/60000 (96%)]\t0.109434\n",
            "Train Epoch: 9 [59900/60000 (100%)]\t0.119462\n",
            "\n",
            "Test set: Average loss: 0.0004, Accuracy: 9873/10000 (99%)\n",
            "\n"
          ]
        }
      ]
    },
    {
      "cell_type": "code",
      "source": [
        "import matplotlib.pyplot as plt\n",
        "model.eval()\n",
        "\n",
        "data,target= test_data[0]\n",
        "data = data.unsqueeze(0).to(device)\n",
        "output = model(data)\n",
        "pred = output.argmax(dim=1, keepdim=True).item()\n",
        "\n",
        "print(f'Prediction: {pred}')\n",
        "# Changed 'sequeeze' to 'squeeze'\n",
        "image=data.squeeze(0).squeeze(0).numpy()\n",
        "plt.imshow(image,cmap='gray')\n",
        "plt.show()"
      ],
      "metadata": {
        "colab": {
          "base_uri": "https://localhost:8080/",
          "height": 503
        },
        "id": "NU_tqVD1f25v",
        "outputId": "b98eabeb-2ecb-42c2-e306-4005d4d55cae"
      },
      "execution_count": 14,
      "outputs": [
        {
          "output_type": "stream",
          "name": "stderr",
          "text": [
            "<ipython-input-10-5d4445b64b29>:28: UserWarning: Implicit dimension choice for log_softmax has been deprecated. Change the call to include dim=X as an argument.\n",
            "  return F.log_softmax(x)\n"
          ]
        },
        {
          "output_type": "stream",
          "name": "stdout",
          "text": [
            "Prediction: 7\n"
          ]
        },
        {
          "output_type": "display_data",
          "data": {
            "text/plain": [
              "<Figure size 640x480 with 1 Axes>"
            ],
            "image/png": "[encoded data removed]"
          },
          "metadata": {}
        }
      ]
    },
    {
      "source": [
        "with torch.no_grad():\n",
        "    data, target = test_data[0] # Get a single data point from test_data\n",
        "    data = data.unsqueeze(0).to(device) # Add batch dimension and move to device\n",
        "    output = model(data) # Pass data through the model\n",
        "    pred = output.argmax(dim=1, keepdim=True).item() # Get the predicted class\n",
        "\n",
        "print(f'Prediction: {pred}') # Print the prediction"
      ],
      "cell_type": "code",
      "metadata": {
        "colab": {
          "base_uri": "https://localhost:8080/"
        },
        "id": "Vtv_uSwWgnfZ",
        "outputId": "3ffd8a3e-da09-4a39-88a4-e94a8ce57981"
      },
      "execution_count": 16,
      "outputs": [
        {
          "output_type": "stream",
          "name": "stdout",
          "text": [
            "Prediction: 7\n"
          ]
        },
        {
          "output_type": "stream",
          "name": "stderr",
          "text": [
            "<ipython-input-10-5d4445b64b29>:28: UserWarning: Implicit dimension choice for log_softmax has been deprecated. Change the call to include dim=X as an argument.\n",
            "  return F.log_softmax(x)\n"
          ]
        }
      ]
    }
  ]
}